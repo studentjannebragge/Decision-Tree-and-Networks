{
 "cells": [
  {
   "cell_type": "markdown",
   "id": "755c8d47-5b81-4f22-8b00-ffe85edfc8a0",
   "metadata": {},
   "source": [
    "# Pickle "
   ]
  },
  {
   "cell_type": "code",
   "execution_count": 9,
   "id": "603f3e0c-01e1-43c3-a692-fdcfb99a04db",
   "metadata": {},
   "outputs": [],
   "source": [
    "# Source (following):  https://www.datacamp.com/tutorial/decision-tree-classification-python\n",
    "\n",
    "# Load libraries\n",
    "import pandas as pd\n",
    "from sklearn.tree import DecisionTreeClassifier # Import Decision Tree Classifier\n",
    "from sklearn.model_selection import train_test_split # Import train_test_split function\n",
    "from sklearn import metrics #Import scikit-learn metrics module for accuracy calculation\n",
    "\n",
    "# library for save and load scikit-learn models\n",
    "import pickle\n",
    "\n",
    "# Telecust1 dataset\n",
    "# https://www.kaggle.com/datasets/prathamtripathi/customersegmentation\n",
    "col_names = columns = ['region', 'tenure', 'age', 'income', 'marital', 'address', 'ed', 'employ', 'retire', 'gender', 'reside', 'custcat']\n",
    "# load dataset\n",
    "telecust = pd.read_csv(\"Telecust1.csv\",  skiprows=[0], names=col_names)\n",
    "\n",
    "#split dataset in features and target variable\n",
    "feature_cols = ['region','tenure', 'age', 'income', 'marital', 'ed', 'employ', 'retire', 'gender', 'reside']\n",
    "X = telecust[feature_cols] # Features\n",
    "y = telecust.custcat # Target variable\n",
    "\n",
    "# Split dataset into training set and test set\n",
    "X_train, X_test, y_train, y_test = train_test_split(X, y, test_size=0.3, random_state=1) # 70% training and 30% test\n",
    "\n",
    "# Create Decision Tree classifer object\n",
    "clf = DecisionTreeClassifier(max_depth = 3, min_samples_leaf = 1, min_samples_split = 2)\n",
    "\n",
    "# Train Decision Tree Classifer\n",
    "clf = clf.fit(X_train,y_train)\n",
    "\n",
    "# file name, I'm using *.pickle as a file extension\n",
    "filename = \"decision_tree.pickle\"\n",
    "\n",
    "# save model\n",
    "pickle.dump(clf, open(filename, \"wb\"))\n",
    "\n",
    "#Predict the response for test dataset\n",
    "#y_pred = clf.predict(X_test)\n"
   ]
  },
  {
   "cell_type": "code",
   "execution_count": 10,
   "id": "9b0a938d-dd90-42a6-9943-a7f77cb4f44b",
   "metadata": {},
   "outputs": [],
   "source": [
    "# load model\n",
    "loaded_model = pickle.load(open(filename, \"rb\"))\n",
    "\n",
    "# you can use loaded model to compute predictions\n",
    "y_pred = loaded_model.predict(X_test)"
   ]
  },
  {
   "cell_type": "code",
   "execution_count": 11,
   "id": "4ae29620-ddac-4b43-be0b-07171bdb23f9",
   "metadata": {},
   "outputs": [
    {
     "name": "stdout",
     "output_type": "stream",
     "text": [
      "['A' 'A' 'A' 'C' 'C' 'A' 'C' 'C' 'A' 'A' 'D' 'D' 'A' 'D' 'A' 'D' 'A' 'C'\n",
      " 'D' 'A' 'C' 'A' 'A' 'D' 'C' 'A' 'A' 'A' 'A' 'A' 'C' 'C' 'A' 'C' 'C' 'A'\n",
      " 'C' 'D' 'B' 'C' 'A' 'C' 'D' 'C' 'A' 'A' 'C' 'A' 'C' 'A' 'B' 'C' 'C' 'D'\n",
      " 'C' 'A' 'C' 'A' 'C' 'A' 'A' 'A' 'D' 'C' 'D' 'B' 'A' 'A' 'D' 'A' 'D' 'B'\n",
      " 'C' 'A' 'A' 'A' 'A' 'C' 'C' 'C' 'C' 'C' 'C' 'D' 'C' 'A' 'A' 'A' 'A' 'A'\n",
      " 'A' 'D' 'A' 'A' 'C' 'B' 'C' 'C' 'C' 'B' 'A' 'D' 'A' 'A' 'D' 'C' 'C' 'A'\n",
      " 'D' 'C' 'C' 'A' 'A' 'D' 'A' 'A' 'A' 'A' 'C' 'A' 'C' 'B' 'A' 'A' 'B' 'C'\n",
      " 'B' 'D' 'A' 'D' 'A' 'A' 'D' 'C' 'B' 'D' 'A' 'A' 'C' 'C' 'D' 'C' 'D' 'D'\n",
      " 'D' 'C' 'C' 'B' 'C' 'B' 'D' 'C' 'D' 'C' 'A' 'A' 'D' 'A' 'D' 'A' 'A' 'A'\n",
      " 'C' 'C' 'D' 'D' 'A' 'A' 'B' 'A' 'C' 'A' 'A' 'A' 'A' 'D' 'A' 'A' 'A' 'A'\n",
      " 'A' 'A' 'B' 'C' 'A' 'A' 'A' 'C' 'C' 'A' 'A' 'A' 'D' 'C' 'C' 'C' 'A' 'C'\n",
      " 'D' 'A' 'D' 'A' 'A' 'B' 'C' 'D' 'D' 'B' 'A' 'C' 'C' 'A' 'A' 'C' 'B' 'A'\n",
      " 'C' 'B' 'D' 'C' 'C' 'C' 'A' 'D' 'A' 'A' 'A' 'C' 'B' 'D' 'C' 'D' 'A' 'C'\n",
      " 'A' 'C' 'A' 'C' 'A' 'C' 'C' 'A' 'A' 'A' 'C' 'C' 'C' 'A' 'D' 'D' 'C' 'C'\n",
      " 'A' 'D' 'D' 'A' 'A' 'C' 'D' 'C' 'A' 'B' 'D' 'C' 'C' 'A' 'B' 'C' 'A' 'A'\n",
      " 'C' 'C' 'C' 'A' 'A' 'A' 'D' 'A' 'A' 'D' 'A' 'C' 'C' 'C' 'C' 'C' 'D' 'D'\n",
      " 'D' 'A' 'A' 'A' 'C' 'C' 'A' 'D' 'B' 'C' 'C' 'D']\n"
     ]
    }
   ],
   "source": [
    "print(y_pred)"
   ]
  },
  {
   "cell_type": "code",
   "execution_count": 12,
   "id": "5e1b2f23-a63e-437c-9aba-cc4d46564b74",
   "metadata": {},
   "outputs": [
    {
     "name": "stdout",
     "output_type": "stream",
     "text": [
      "Accuracy: 0.41333333333333333\n"
     ]
    }
   ],
   "source": [
    "print(\"Accuracy:\",metrics.accuracy_score(y_test, y_pred))"
   ]
  },
  {
   "cell_type": "code",
   "execution_count": null,
   "id": "95b0a775-6625-4005-b4db-24b1c2f97b94",
   "metadata": {},
   "outputs": [],
   "source": []
  }
 ],
 "metadata": {
  "kernelspec": {
   "display_name": "Python 3 (ipykernel)",
   "language": "python",
   "name": "python3"
  },
  "language_info": {
   "codemirror_mode": {
    "name": "ipython",
    "version": 3
   },
   "file_extension": ".py",
   "mimetype": "text/x-python",
   "name": "python",
   "nbconvert_exporter": "python",
   "pygments_lexer": "ipython3",
   "version": "3.11.9"
  }
 },
 "nbformat": 4,
 "nbformat_minor": 5
}
