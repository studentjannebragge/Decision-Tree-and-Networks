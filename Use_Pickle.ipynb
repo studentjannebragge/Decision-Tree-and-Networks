{
 "cells": [
  {
   "cell_type": "code",
   "execution_count": 2,
   "id": "149796dc-c5a6-4601-bd0e-7326f52e41a9",
   "metadata": {},
   "outputs": [],
   "source": [
    "# Source (following):  https://www.datacamp.com/tutorial/decision-tree-classification-python\n",
    "\n",
    "# Load libraries\n",
    "import pandas as pd\n",
    "from sklearn.tree import DecisionTreeClassifier # Import Decision Tree Classifier\n",
    "from sklearn.model_selection import train_test_split # Import train_test_split function\n",
    "from sklearn import metrics #Import scikit-learn metrics module for accuracy calculation\n",
    "\n",
    "# library for save and load scikit-learn models\n",
    "import pickle\n",
    "\n",
    "# Telecust1 dataset\n",
    "# https://www.kaggle.com/datasets/prathamtripathi/customersegmentation\n",
    "col_names = columns = ['region', 'tenure', 'age', 'income', 'marital', 'address', 'ed', 'employ', 'retire', 'gender', 'reside', 'custcat']\n",
    "# load dataset\n",
    "telecust = pd.read_csv(\"Telecust1.csv\",  skiprows=[0], names=col_names)\n",
    "\n",
    "#split dataset in features and target variable\n",
    "feature_cols = ['region','tenure', 'age', 'income', 'marital', 'ed', 'employ', 'retire', 'gender', 'reside']\n",
    "X = telecust[feature_cols] # Features\n",
    "y = telecust.custcat # Target variable\n",
    "\n",
    "# Split dataset into training set and test set\n",
    "X_train, X_test, y_train, y_test = train_test_split(X, y, test_size=0.3, random_state=1) # 70% training and 30% test"
   ]
  },
  {
   "cell_type": "code",
   "execution_count": 3,
   "id": "879086ab-728e-4325-ba12-0994970d582b",
   "metadata": {},
   "outputs": [],
   "source": [
    "# load model\n",
    "loaded_model = pickle.load(open(\"decision_tree.pickle\", \"rb\"))\n",
    "\n",
    "# you can use loaded model to compute predictions\n",
    "y_pred = loaded_model.predict(X_test)"
   ]
  },
  {
   "cell_type": "code",
   "execution_count": 4,
   "id": "3f50d8c1-1c1e-40b9-9009-0e986e43550d",
   "metadata": {},
   "outputs": [
    {
     "name": "stdout",
     "output_type": "stream",
     "text": [
      "Accuracy: 0.41333333333333333\n"
     ]
    }
   ],
   "source": [
    "print(\"Accuracy:\",metrics.accuracy_score(y_test, y_pred))"
   ]
  },
  {
   "cell_type": "code",
   "execution_count": null,
   "id": "32481a30-6deb-4cbf-9887-bfbb70b0948a",
   "metadata": {},
   "outputs": [],
   "source": []
  }
 ],
 "metadata": {
  "kernelspec": {
   "display_name": "Python 3 (ipykernel)",
   "language": "python",
   "name": "python3"
  },
  "language_info": {
   "codemirror_mode": {
    "name": "ipython",
    "version": 3
   },
   "file_extension": ".py",
   "mimetype": "text/x-python",
   "name": "python",
   "nbconvert_exporter": "python",
   "pygments_lexer": "ipython3",
   "version": "3.11.9"
  }
 },
 "nbformat": 4,
 "nbformat_minor": 5
}
